{
 "cells": [
  {
   "cell_type": "code",
   "execution_count": 11,
   "id": "541b0576-b96e-4f9e-8ba2-21b013b1983d",
   "metadata": {},
   "outputs": [],
   "source": [
    "def rajesh(a,b):\n",
    "    return a + b"
   ]
  },
  {
   "cell_type": "code",
   "execution_count": 12,
   "id": "f18aa381-07d8-4e2b-8c1a-f9b6762b30d1",
   "metadata": {},
   "outputs": [
    {
     "data": {
      "text/plain": [
       "1200000"
      ]
     },
     "execution_count": 12,
     "metadata": {},
     "output_type": "execute_result"
    }
   ],
   "source": [
    "rajesh(1000000,200000)"
   ]
  },
  {
   "cell_type": "code",
   "execution_count": 13,
   "id": "713de89a-b1cd-4b4d-b631-08d4ffe4b663",
   "metadata": {},
   "outputs": [
    {
     "data": {
      "text/plain": [
       "-1"
      ]
     },
     "execution_count": 13,
     "metadata": {},
     "output_type": "execute_result"
    }
   ],
   "source": [
    "rajesh(2, -3)"
   ]
  },
  {
   "cell_type": "code",
   "execution_count": 14,
   "id": "0ddbd72b-099a-4865-944a-2e2cb2e34d30",
   "metadata": {},
   "outputs": [
    {
     "data": {
      "text/plain": [
       "'4a3a'"
      ]
     },
     "execution_count": 14,
     "metadata": {},
     "output_type": "execute_result"
    }
   ],
   "source": [
    "rajesh(\"4a\", \"3a\")"
   ]
  },
  {
   "cell_type": "code",
   "execution_count": 16,
   "id": "e5114dfc-20ae-4866-9819-2ceb4f994754",
   "metadata": {},
   "outputs": [],
   "source": [
    "def divide(a,b):\n",
    "    try:\n",
    "        return a // b \n",
    "    except:\n",
    "        return \"Please do not enter 0 in denominator\""
   ]
  },
  {
   "cell_type": "code",
   "execution_count": 6,
   "id": "7d301a6f-0e39-4a3b-969e-63dc5e65b14e",
   "metadata": {},
   "outputs": [
    {
     "data": {
      "text/plain": [
       "5"
      ]
     },
     "execution_count": 6,
     "metadata": {},
     "output_type": "execute_result"
    }
   ],
   "source": [
    "divide(10, 2)"
   ]
  },
  {
   "cell_type": "code",
   "execution_count": 20,
   "id": "176da240-1b20-4884-b33a-0a358e9056fb",
   "metadata": {},
   "outputs": [
    {
     "data": {
      "text/plain": [
       "4"
      ]
     },
     "execution_count": 20,
     "metadata": {},
     "output_type": "execute_result"
    }
   ],
   "source": [
    "9 % 5"
   ]
  },
  {
   "cell_type": "code",
   "execution_count": 9,
   "id": "4ed2b395-d83f-4a64-b50a-116e2de9e0c0",
   "metadata": {},
   "outputs": [
    {
     "data": {
      "text/plain": [
       "6.1"
      ]
     },
     "execution_count": 9,
     "metadata": {},
     "output_type": "execute_result"
    }
   ],
   "source": [
    "sum(1.1, 5)"
   ]
  },
  {
   "cell_type": "code",
   "execution_count": 15,
   "id": "7d3444a9-9199-458a-bcd6-e793eb3a3712",
   "metadata": {},
   "outputs": [
    {
     "ename": "ZeroDivisionError",
     "evalue": "integer division or modulo by zero",
     "output_type": "error",
     "traceback": [
      "\u001b[1;31m---------------------------------------------------------------------------\u001b[0m",
      "\u001b[1;31mZeroDivisionError\u001b[0m                         Traceback (most recent call last)",
      "Cell \u001b[1;32mIn[15], line 1\u001b[0m\n\u001b[1;32m----> 1\u001b[0m \u001b[43mdivide\u001b[49m\u001b[43m(\u001b[49m\u001b[38;5;241;43m9\u001b[39;49m\u001b[43m,\u001b[49m\u001b[43m \u001b[49m\u001b[38;5;241;43m0\u001b[39;49m\u001b[43m)\u001b[49m\n",
      "Cell \u001b[1;32mIn[5], line 2\u001b[0m, in \u001b[0;36mdivide\u001b[1;34m(a, b)\u001b[0m\n\u001b[0;32m      1\u001b[0m \u001b[38;5;28;01mdef\u001b[39;00m \u001b[38;5;21mdivide\u001b[39m(a,b):\n\u001b[1;32m----> 2\u001b[0m     \u001b[38;5;28;01mreturn\u001b[39;00m \u001b[43ma\u001b[49m\u001b[43m \u001b[49m\u001b[38;5;241;43m/\u001b[39;49m\u001b[38;5;241;43m/\u001b[39;49m\u001b[43m \u001b[49m\u001b[43mb\u001b[49m\n",
      "\u001b[1;31mZeroDivisionError\u001b[0m: integer division or modulo by zero"
     ]
    }
   ],
   "source": [
    "divide(9, 0)"
   ]
  },
  {
   "cell_type": "code",
   "execution_count": 17,
   "id": "f243c4f8-41c2-4930-b61f-1900d23bb60a",
   "metadata": {},
   "outputs": [
    {
     "data": {
      "text/plain": [
       "'Please do not enter 0 in denominator'"
      ]
     },
     "execution_count": 17,
     "metadata": {},
     "output_type": "execute_result"
    }
   ],
   "source": [
    "divide(9, 0)"
   ]
  },
  {
   "cell_type": "markdown",
   "id": "17207ed9-9ab6-4929-8d2a-7723bc2282d8",
   "metadata": {},
   "source": [
    "## Important Pointers\n",
    "* Python treats everything as string.\n",
    "* "
   ]
  },
  {
   "cell_type": "markdown",
   "id": "31c4b439-f9ab-4ce0-b505-588d2b6f5bc6",
   "metadata": {},
   "source": [
    "## Data Types"
   ]
  },
  {
   "cell_type": "markdown",
   "id": "8559a5c7-e79d-4d13-8caf-5c46547a643b",
   "metadata": {},
   "source": [
    "## List"
   ]
  },
  {
   "cell_type": "code",
   "execution_count": 21,
   "id": "7a9cad44-fe83-4054-89cf-bfd96f2c189f",
   "metadata": {},
   "outputs": [],
   "source": [
    "a = [1,2,3,4,5]"
   ]
  },
  {
   "cell_type": "code",
   "execution_count": 23,
   "id": "673d9a82-a059-45d3-9d00-364741d0fda3",
   "metadata": {},
   "outputs": [
    {
     "name": "stdout",
     "output_type": "stream",
     "text": [
      "[1, 2, 3, 4, 5]\n"
     ]
    }
   ],
   "source": [
    "print(a)"
   ]
  },
  {
   "cell_type": "code",
   "execution_count": 26,
   "id": "d8551bbd-e996-4e61-a77b-d14b8f7f3316",
   "metadata": {},
   "outputs": [
    {
     "ename": "IndexError",
     "evalue": "list index out of range",
     "output_type": "error",
     "traceback": [
      "\u001b[1;31m---------------------------------------------------------------------------\u001b[0m",
      "\u001b[1;31mIndexError\u001b[0m                                Traceback (most recent call last)",
      "Cell \u001b[1;32mIn[26], line 1\u001b[0m\n\u001b[1;32m----> 1\u001b[0m \u001b[43ma\u001b[49m\u001b[43m[\u001b[49m\u001b[38;5;241;43m5\u001b[39;49m\u001b[43m]\u001b[49m\n",
      "\u001b[1;31mIndexError\u001b[0m: list index out of range"
     ]
    }
   ],
   "source": [
    "a[5] "
   ]
  },
  {
   "cell_type": "code",
   "execution_count": 27,
   "id": "96b8e48a-9f29-4e0d-898d-88b450202b93",
   "metadata": {},
   "outputs": [],
   "source": [
    "a[0] = 10"
   ]
  },
  {
   "cell_type": "code",
   "execution_count": 28,
   "id": "c9c10d78-68f3-48f8-a808-be5bdf5e53cf",
   "metadata": {},
   "outputs": [
    {
     "data": {
      "text/plain": [
       "[10, 2, 3, 4, 5]"
      ]
     },
     "execution_count": 28,
     "metadata": {},
     "output_type": "execute_result"
    }
   ],
   "source": [
    "a"
   ]
  },
  {
   "cell_type": "code",
   "execution_count": 56,
   "id": "70a9d7c9-ee39-4313-a245-1d6ffc5e4254",
   "metadata": {},
   "outputs": [],
   "source": [
    "a.append(111)"
   ]
  },
  {
   "cell_type": "code",
   "execution_count": 57,
   "id": "3845265e-6d67-4641-8b50-3c2b3f7c1697",
   "metadata": {},
   "outputs": [
    {
     "data": {
      "text/plain": [
       "[10, 2, 3, 4, 5, 111]"
      ]
     },
     "execution_count": 57,
     "metadata": {},
     "output_type": "execute_result"
    }
   ],
   "source": [
    "a"
   ]
  },
  {
   "cell_type": "code",
   "execution_count": 58,
   "id": "478973fe-6613-4962-a3af-bedc75be6272",
   "metadata": {},
   "outputs": [],
   "source": [
    "a.insert(0, 123)"
   ]
  },
  {
   "cell_type": "code",
   "execution_count": 59,
   "id": "385c4e5e-2902-4222-9260-556eda5fccd9",
   "metadata": {},
   "outputs": [
    {
     "data": {
      "text/plain": [
       "[123, 10, 2, 3, 4, 5, 111]"
      ]
     },
     "execution_count": 59,
     "metadata": {},
     "output_type": "execute_result"
    }
   ],
   "source": [
    "a"
   ]
  },
  {
   "cell_type": "code",
   "execution_count": 60,
   "id": "a5813a32-7949-47fa-8895-1f3fb8050a45",
   "metadata": {},
   "outputs": [],
   "source": [
    "a.insert(0, -1)"
   ]
  },
  {
   "cell_type": "code",
   "execution_count": 61,
   "id": "47a28852-dfad-4369-a4c5-2812aab4df95",
   "metadata": {},
   "outputs": [
    {
     "data": {
      "text/plain": [
       "[-1, 123, 10, 2, 3, 4, 5, 111]"
      ]
     },
     "execution_count": 61,
     "metadata": {},
     "output_type": "execute_result"
    }
   ],
   "source": [
    "a"
   ]
  },
  {
   "cell_type": "code",
   "execution_count": 62,
   "id": "e2af228f-2adc-4e35-ae53-46851eea7baf",
   "metadata": {},
   "outputs": [],
   "source": [
    "a.append(\"HD\")"
   ]
  },
  {
   "cell_type": "code",
   "execution_count": 63,
   "id": "a1644014-ea24-40e2-9e4c-68dd17bf7d39",
   "metadata": {},
   "outputs": [
    {
     "data": {
      "text/plain": [
       "[-1, 123, 10, 2, 3, 4, 5, 111, 'HD']"
      ]
     },
     "execution_count": 63,
     "metadata": {},
     "output_type": "execute_result"
    }
   ],
   "source": [
    "a"
   ]
  },
  {
   "cell_type": "code",
   "execution_count": 64,
   "id": "141b83f2-3d29-4f14-a5f0-80cb24afe1ff",
   "metadata": {},
   "outputs": [],
   "source": [
    "a.append(\"Harshit Dawar\")"
   ]
  },
  {
   "cell_type": "code",
   "execution_count": 65,
   "id": "f145d332-d748-4392-ada3-558b689a4d14",
   "metadata": {},
   "outputs": [
    {
     "data": {
      "text/plain": [
       "[-1, 123, 10, 2, 3, 4, 5, 111, 'HD', 'Harshit Dawar']"
      ]
     },
     "execution_count": 65,
     "metadata": {},
     "output_type": "execute_result"
    }
   ],
   "source": [
    "a"
   ]
  },
  {
   "cell_type": "code",
   "execution_count": 66,
   "id": "327ad0d9-e3b4-4e35-ab9d-8cb2acba092a",
   "metadata": {},
   "outputs": [],
   "source": [
    "a.extend(\"Harshit Dawar\")"
   ]
  },
  {
   "cell_type": "code",
   "execution_count": 67,
   "id": "886f2103-319d-44b5-8610-b93173c3c9c7",
   "metadata": {},
   "outputs": [
    {
     "data": {
      "text/plain": [
       "[-1,\n",
       " 123,\n",
       " 10,\n",
       " 2,\n",
       " 3,\n",
       " 4,\n",
       " 5,\n",
       " 111,\n",
       " 'HD',\n",
       " 'Harshit Dawar',\n",
       " 'H',\n",
       " 'a',\n",
       " 'r',\n",
       " 's',\n",
       " 'h',\n",
       " 'i',\n",
       " 't',\n",
       " ' ',\n",
       " 'D',\n",
       " 'a',\n",
       " 'w',\n",
       " 'a',\n",
       " 'r']"
      ]
     },
     "execution_count": 67,
     "metadata": {},
     "output_type": "execute_result"
    }
   ],
   "source": [
    "a"
   ]
  },
  {
   "cell_type": "markdown",
   "id": "92d5dd2c-2712-4410-9bb4-5e25f10c167a",
   "metadata": {},
   "source": [
    "## Tuple"
   ]
  },
  {
   "cell_type": "code",
   "execution_count": 29,
   "id": "d95c4179-8468-450c-b326-dd1a286b73df",
   "metadata": {},
   "outputs": [],
   "source": [
    "t = (1,2,3,4,5)"
   ]
  },
  {
   "cell_type": "code",
   "execution_count": 30,
   "id": "26e9d1fe-5077-4974-9d8b-5286b8578925",
   "metadata": {},
   "outputs": [
    {
     "data": {
      "text/plain": [
       "1"
      ]
     },
     "execution_count": 30,
     "metadata": {},
     "output_type": "execute_result"
    }
   ],
   "source": [
    "t[0]"
   ]
  },
  {
   "cell_type": "code",
   "execution_count": 31,
   "id": "72a6213b-c7c0-43c6-9d94-825dc2be1167",
   "metadata": {},
   "outputs": [
    {
     "ename": "TypeError",
     "evalue": "'tuple' object does not support item assignment",
     "output_type": "error",
     "traceback": [
      "\u001b[1;31m---------------------------------------------------------------------------\u001b[0m",
      "\u001b[1;31mTypeError\u001b[0m                                 Traceback (most recent call last)",
      "Cell \u001b[1;32mIn[31], line 1\u001b[0m\n\u001b[1;32m----> 1\u001b[0m t[\u001b[38;5;241m0\u001b[39m] \u001b[38;5;241m=\u001b[39m \u001b[38;5;241m10\u001b[39m\n",
      "\u001b[1;31mTypeError\u001b[0m: 'tuple' object does not support item assignment"
     ]
    }
   ],
   "source": [
    "t[0] = 10"
   ]
  },
  {
   "cell_type": "markdown",
   "id": "4b745065-4790-4940-8f57-1dcb06c0e761",
   "metadata": {},
   "source": [
    "## Set"
   ]
  },
  {
   "cell_type": "code",
   "execution_count": 35,
   "id": "c035d896-6361-40f5-9dd0-1a07e95648e0",
   "metadata": {},
   "outputs": [],
   "source": [
    "s  = set([1,2,3,4,5])"
   ]
  },
  {
   "cell_type": "code",
   "execution_count": 36,
   "id": "e90edf1a-aea3-4722-86b5-b7d4b87db77b",
   "metadata": {},
   "outputs": [
    {
     "data": {
      "text/plain": [
       "{1, 2, 3, 4, 5}"
      ]
     },
     "execution_count": 36,
     "metadata": {},
     "output_type": "execute_result"
    }
   ],
   "source": [
    "s"
   ]
  },
  {
   "cell_type": "code",
   "execution_count": 37,
   "id": "b4fb36db-0bae-451b-abcd-97fa11578d2f",
   "metadata": {},
   "outputs": [],
   "source": [
    "s.add(6)"
   ]
  },
  {
   "cell_type": "code",
   "execution_count": 38,
   "id": "02ad3dfe-125d-44ce-9f06-194b2a981b13",
   "metadata": {},
   "outputs": [
    {
     "data": {
      "text/plain": [
       "{1, 2, 3, 4, 5, 6}"
      ]
     },
     "execution_count": 38,
     "metadata": {},
     "output_type": "execute_result"
    }
   ],
   "source": [
    "s"
   ]
  },
  {
   "cell_type": "code",
   "execution_count": 39,
   "id": "7170d88d-f407-4cb4-a839-549d9123e87c",
   "metadata": {},
   "outputs": [],
   "source": [
    "s.add(6)"
   ]
  },
  {
   "cell_type": "code",
   "execution_count": 40,
   "id": "faaa9185-9737-451e-86cb-cc4c13a5c709",
   "metadata": {},
   "outputs": [
    {
     "data": {
      "text/plain": [
       "{1, 2, 3, 4, 5, 6}"
      ]
     },
     "execution_count": 40,
     "metadata": {},
     "output_type": "execute_result"
    }
   ],
   "source": [
    "s"
   ]
  },
  {
   "cell_type": "code",
   "execution_count": 41,
   "id": "f430b553-ea6d-4760-8398-c407b8635927",
   "metadata": {},
   "outputs": [
    {
     "data": {
      "text/plain": [
       "{1}"
      ]
     },
     "execution_count": 41,
     "metadata": {},
     "output_type": "execute_result"
    }
   ],
   "source": [
    "s1 = set([1,1,1,1,1,1,1])\n",
    "s1"
   ]
  },
  {
   "cell_type": "code",
   "execution_count": 42,
   "id": "920e5421-81b1-4e3e-9d8f-71a9ef23b7e3",
   "metadata": {},
   "outputs": [
    {
     "ename": "TypeError",
     "evalue": "'set' object is not subscriptable",
     "output_type": "error",
     "traceback": [
      "\u001b[1;31m---------------------------------------------------------------------------\u001b[0m",
      "\u001b[1;31mTypeError\u001b[0m                                 Traceback (most recent call last)",
      "Cell \u001b[1;32mIn[42], line 1\u001b[0m\n\u001b[1;32m----> 1\u001b[0m \u001b[43ms\u001b[49m\u001b[43m[\u001b[49m\u001b[38;5;241;43m0\u001b[39;49m\u001b[43m]\u001b[49m\n",
      "\u001b[1;31mTypeError\u001b[0m: 'set' object is not subscriptable"
     ]
    }
   ],
   "source": [
    "s[0]"
   ]
  },
  {
   "cell_type": "code",
   "execution_count": 43,
   "id": "7eaaca8d-1cce-46c3-9fc0-8f2142f16d82",
   "metadata": {},
   "outputs": [
    {
     "data": {
      "text/plain": [
       "{0, 1, 2, 3, 4, 5, 6}"
      ]
     },
     "execution_count": 43,
     "metadata": {},
     "output_type": "execute_result"
    }
   ],
   "source": [
    "s.add(0)\n",
    "s"
   ]
  },
  {
   "cell_type": "code",
   "execution_count": 44,
   "id": "3e53607a-737e-4121-bfa2-4bad59332f41",
   "metadata": {},
   "outputs": [],
   "source": [
    "s.add(6*2)"
   ]
  },
  {
   "cell_type": "code",
   "execution_count": 45,
   "id": "f47dc8b9-ac33-4474-8c96-a10775e0b2e3",
   "metadata": {},
   "outputs": [
    {
     "data": {
      "text/plain": [
       "{0, 1, 2, 3, 4, 5, 6, 12}"
      ]
     },
     "execution_count": 45,
     "metadata": {},
     "output_type": "execute_result"
    }
   ],
   "source": [
    "s"
   ]
  },
  {
   "cell_type": "code",
   "execution_count": 46,
   "id": "0d874bf8-482f-40a5-9a0b-49cb8f913495",
   "metadata": {},
   "outputs": [],
   "source": [
    "s.add(-1)"
   ]
  },
  {
   "cell_type": "code",
   "execution_count": 47,
   "id": "530af7af-128b-4828-87de-d4e6635062f6",
   "metadata": {},
   "outputs": [
    {
     "data": {
      "text/plain": [
       "{-1, 0, 1, 2, 3, 4, 5, 6, 12}"
      ]
     },
     "execution_count": 47,
     "metadata": {},
     "output_type": "execute_result"
    }
   ],
   "source": [
    "s"
   ]
  },
  {
   "cell_type": "markdown",
   "id": "5ad4a540-027c-4feb-80c3-2efd255074d1",
   "metadata": {},
   "source": [
    "## Dictionary"
   ]
  },
  {
   "cell_type": "code",
   "execution_count": 48,
   "id": "b9d9d53d-d046-441d-8d93-9d06ab092b59",
   "metadata": {},
   "outputs": [],
   "source": [
    "d = dict()"
   ]
  },
  {
   "cell_type": "code",
   "execution_count": 49,
   "id": "45577715-5191-4aeb-af20-2cc16172345e",
   "metadata": {},
   "outputs": [
    {
     "data": {
      "text/plain": [
       "{}"
      ]
     },
     "execution_count": 49,
     "metadata": {},
     "output_type": "execute_result"
    }
   ],
   "source": [
    "d"
   ]
  },
  {
   "cell_type": "code",
   "execution_count": 50,
   "id": "7fd2b33e-beab-45b8-bc8c-b7244e819b66",
   "metadata": {},
   "outputs": [],
   "source": [
    "d[\"name\"] = \"Harshit Dawar\""
   ]
  },
  {
   "cell_type": "code",
   "execution_count": 51,
   "id": "c27b3bc3-317c-4901-bc92-4b119b6929d2",
   "metadata": {},
   "outputs": [
    {
     "data": {
      "text/plain": [
       "{'name': 'Harshit Dawar'}"
      ]
     },
     "execution_count": 51,
     "metadata": {},
     "output_type": "execute_result"
    }
   ],
   "source": [
    "d"
   ]
  },
  {
   "cell_type": "code",
   "execution_count": 52,
   "id": "7e06b9c1-8ceb-46aa-9ff1-f0a80c5470be",
   "metadata": {},
   "outputs": [],
   "source": [
    "d[\"name\"] = \"HD\" "
   ]
  },
  {
   "cell_type": "code",
   "execution_count": 53,
   "id": "9566cacd-5e7d-46c3-8cda-94dae126e980",
   "metadata": {},
   "outputs": [
    {
     "data": {
      "text/plain": [
       "{'name': 'HD'}"
      ]
     },
     "execution_count": 53,
     "metadata": {},
     "output_type": "execute_result"
    }
   ],
   "source": [
    "d"
   ]
  },
  {
   "cell_type": "code",
   "execution_count": 54,
   "id": "f1133f77-a017-4ff1-82fb-94a221ec6f08",
   "metadata": {},
   "outputs": [],
   "source": [
    "d[\"name1\"] = 'HD'"
   ]
  },
  {
   "cell_type": "code",
   "execution_count": 55,
   "id": "5745ba86-dfab-4c6d-979a-d22377f8e5f4",
   "metadata": {},
   "outputs": [
    {
     "data": {
      "text/plain": [
       "{'name': 'HD', 'name1': 'HD'}"
      ]
     },
     "execution_count": 55,
     "metadata": {},
     "output_type": "execute_result"
    }
   ],
   "source": [
    "d"
   ]
  },
  {
   "cell_type": "markdown",
   "id": "681d7df6-99fa-4154-a604-2816fdc87e8e",
   "metadata": {},
   "source": [
    "# Data Science Stuff / Statistics Stuff"
   ]
  },
  {
   "cell_type": "code",
   "execution_count": 69,
   "id": "82b5d10a-f7be-4633-99bf-1bec8e2e82ec",
   "metadata": {},
   "outputs": [],
   "source": [
    "import pandas as pd"
   ]
  },
  {
   "cell_type": "code",
   "execution_count": 72,
   "id": "392d601f-a7d2-42f6-9b7d-b8d45b27079b",
   "metadata": {},
   "outputs": [
    {
     "data": {
      "text/html": [
       "<div>\n",
       "<style scoped>\n",
       "    .dataframe tbody tr th:only-of-type {\n",
       "        vertical-align: middle;\n",
       "    }\n",
       "\n",
       "    .dataframe tbody tr th {\n",
       "        vertical-align: top;\n",
       "    }\n",
       "\n",
       "    .dataframe thead th {\n",
       "        text-align: right;\n",
       "    }\n",
       "</style>\n",
       "<table border=\"1\" class=\"dataframe\">\n",
       "  <thead>\n",
       "    <tr style=\"text-align: right;\">\n",
       "      <th></th>\n",
       "      <th>Date</th>\n",
       "      <th>AVG_TEMP</th>\n",
       "      <th>AVG_TEMP_UNCERTAINITY</th>\n",
       "      <th>City</th>\n",
       "      <th>Country</th>\n",
       "      <th>Latitude</th>\n",
       "      <th>Longitude</th>\n",
       "    </tr>\n",
       "  </thead>\n",
       "  <tbody>\n",
       "    <tr>\n",
       "      <th>0</th>\n",
       "      <td>1849-01-01</td>\n",
       "      <td>26.704</td>\n",
       "      <td>1.435</td>\n",
       "      <td>Abidjan</td>\n",
       "      <td>Côte D'Ivoire</td>\n",
       "      <td>5.63N</td>\n",
       "      <td>3.23W</td>\n",
       "    </tr>\n",
       "    <tr>\n",
       "      <th>1</th>\n",
       "      <td>1849-02-01</td>\n",
       "      <td>27.434</td>\n",
       "      <td>1.362</td>\n",
       "      <td>Abidjan</td>\n",
       "      <td>Côte D'Ivoire</td>\n",
       "      <td>5.63N</td>\n",
       "      <td>3.23W</td>\n",
       "    </tr>\n",
       "    <tr>\n",
       "      <th>2</th>\n",
       "      <td>1849-03-01</td>\n",
       "      <td>28.101</td>\n",
       "      <td>1.612</td>\n",
       "      <td>Abidjan</td>\n",
       "      <td>Côte D'Ivoire</td>\n",
       "      <td>5.63N</td>\n",
       "      <td>3.23W</td>\n",
       "    </tr>\n",
       "    <tr>\n",
       "      <th>3</th>\n",
       "      <td>1849-04-01</td>\n",
       "      <td>26.140</td>\n",
       "      <td>1.387</td>\n",
       "      <td>Abidjan</td>\n",
       "      <td>Côte D'Ivoire</td>\n",
       "      <td>5.63N</td>\n",
       "      <td>3.23W</td>\n",
       "    </tr>\n",
       "    <tr>\n",
       "      <th>4</th>\n",
       "      <td>1849-05-01</td>\n",
       "      <td>25.427</td>\n",
       "      <td>1.200</td>\n",
       "      <td>Abidjan</td>\n",
       "      <td>Côte D'Ivoire</td>\n",
       "      <td>5.63N</td>\n",
       "      <td>3.23W</td>\n",
       "    </tr>\n",
       "    <tr>\n",
       "      <th>...</th>\n",
       "      <td>...</td>\n",
       "      <td>...</td>\n",
       "      <td>...</td>\n",
       "      <td>...</td>\n",
       "      <td>...</td>\n",
       "      <td>...</td>\n",
       "      <td>...</td>\n",
       "    </tr>\n",
       "    <tr>\n",
       "      <th>239172</th>\n",
       "      <td>5/1/2013</td>\n",
       "      <td>18.979</td>\n",
       "      <td>0.807</td>\n",
       "      <td>Xian</td>\n",
       "      <td>China</td>\n",
       "      <td>34.56N</td>\n",
       "      <td>108.97E</td>\n",
       "    </tr>\n",
       "    <tr>\n",
       "      <th>239173</th>\n",
       "      <td>6/1/2013</td>\n",
       "      <td>23.522</td>\n",
       "      <td>0.647</td>\n",
       "      <td>Xian</td>\n",
       "      <td>China</td>\n",
       "      <td>34.56N</td>\n",
       "      <td>108.97E</td>\n",
       "    </tr>\n",
       "    <tr>\n",
       "      <th>239174</th>\n",
       "      <td>7/1/2013</td>\n",
       "      <td>25.251</td>\n",
       "      <td>1.042</td>\n",
       "      <td>Xian</td>\n",
       "      <td>China</td>\n",
       "      <td>34.56N</td>\n",
       "      <td>108.97E</td>\n",
       "    </tr>\n",
       "    <tr>\n",
       "      <th>239175</th>\n",
       "      <td>8/1/2013</td>\n",
       "      <td>24.528</td>\n",
       "      <td>0.840</td>\n",
       "      <td>Xian</td>\n",
       "      <td>China</td>\n",
       "      <td>34.56N</td>\n",
       "      <td>108.97E</td>\n",
       "    </tr>\n",
       "    <tr>\n",
       "      <th>239176</th>\n",
       "      <td>9/1/2013</td>\n",
       "      <td>NaN</td>\n",
       "      <td>NaN</td>\n",
       "      <td>Xian</td>\n",
       "      <td>China</td>\n",
       "      <td>34.56N</td>\n",
       "      <td>108.97E</td>\n",
       "    </tr>\n",
       "  </tbody>\n",
       "</table>\n",
       "<p>239177 rows × 7 columns</p>\n",
       "</div>"
      ],
      "text/plain": [
       "              Date  AVG_TEMP  AVG_TEMP_UNCERTAINITY     City        Country  \\\n",
       "0       1849-01-01    26.704                  1.435  Abidjan  Côte D'Ivoire   \n",
       "1       1849-02-01    27.434                  1.362  Abidjan  Côte D'Ivoire   \n",
       "2       1849-03-01    28.101                  1.612  Abidjan  Côte D'Ivoire   \n",
       "3       1849-04-01    26.140                  1.387  Abidjan  Côte D'Ivoire   \n",
       "4       1849-05-01    25.427                  1.200  Abidjan  Côte D'Ivoire   \n",
       "...            ...       ...                    ...      ...            ...   \n",
       "239172    5/1/2013    18.979                  0.807     Xian          China   \n",
       "239173    6/1/2013    23.522                  0.647     Xian          China   \n",
       "239174    7/1/2013    25.251                  1.042     Xian          China   \n",
       "239175    8/1/2013    24.528                  0.840     Xian          China   \n",
       "239176    9/1/2013       NaN                    NaN     Xian          China   \n",
       "\n",
       "       Latitude Longitude  \n",
       "0         5.63N     3.23W  \n",
       "1         5.63N     3.23W  \n",
       "2         5.63N     3.23W  \n",
       "3         5.63N     3.23W  \n",
       "4         5.63N     3.23W  \n",
       "...         ...       ...  \n",
       "239172   34.56N   108.97E  \n",
       "239173   34.56N   108.97E  \n",
       "239174   34.56N   108.97E  \n",
       "239175   34.56N   108.97E  \n",
       "239176   34.56N   108.97E  \n",
       "\n",
       "[239177 rows x 7 columns]"
      ]
     },
     "execution_count": 72,
     "metadata": {},
     "output_type": "execute_result"
    }
   ],
   "source": [
    "data = pd.read_csv(\"C:/Users/harsh/OneDrive/Desktop/GlobalLandTemperaturesByMajorCity.csv\",\n",
    "                   names = [\"Date\", \"AVG_TEMP\", \"AVG_TEMP_UNCERTAINITY\", \"City\", \"Country\", \"Latitude\", \"Longitude\"])\n",
    "data"
   ]
  },
  {
   "cell_type": "code",
   "execution_count": 74,
   "id": "488c63c6-c7d0-4b43-87c4-6043456f52d5",
   "metadata": {},
   "outputs": [
    {
     "data": {
      "text/html": [
       "<div>\n",
       "<style scoped>\n",
       "    .dataframe tbody tr th:only-of-type {\n",
       "        vertical-align: middle;\n",
       "    }\n",
       "\n",
       "    .dataframe tbody tr th {\n",
       "        vertical-align: top;\n",
       "    }\n",
       "\n",
       "    .dataframe thead th {\n",
       "        text-align: right;\n",
       "    }\n",
       "</style>\n",
       "<table border=\"1\" class=\"dataframe\">\n",
       "  <thead>\n",
       "    <tr style=\"text-align: right;\">\n",
       "      <th></th>\n",
       "      <th>Date</th>\n",
       "      <th>AVG_TEMP</th>\n",
       "      <th>AVG_TEMP_UNCERTAINITY</th>\n",
       "      <th>City</th>\n",
       "      <th>Country</th>\n",
       "      <th>Latitude</th>\n",
       "      <th>Longitude</th>\n",
       "    </tr>\n",
       "  </thead>\n",
       "  <tbody>\n",
       "    <tr>\n",
       "      <th>0</th>\n",
       "      <td>1849-01-01</td>\n",
       "      <td>26.704</td>\n",
       "      <td>1.435</td>\n",
       "      <td>Abidjan</td>\n",
       "      <td>Côte D'Ivoire</td>\n",
       "      <td>5.63N</td>\n",
       "      <td>3.23W</td>\n",
       "    </tr>\n",
       "    <tr>\n",
       "      <th>1</th>\n",
       "      <td>1849-02-01</td>\n",
       "      <td>27.434</td>\n",
       "      <td>1.362</td>\n",
       "      <td>Abidjan</td>\n",
       "      <td>Côte D'Ivoire</td>\n",
       "      <td>5.63N</td>\n",
       "      <td>3.23W</td>\n",
       "    </tr>\n",
       "    <tr>\n",
       "      <th>2</th>\n",
       "      <td>1849-03-01</td>\n",
       "      <td>28.101</td>\n",
       "      <td>1.612</td>\n",
       "      <td>Abidjan</td>\n",
       "      <td>Côte D'Ivoire</td>\n",
       "      <td>5.63N</td>\n",
       "      <td>3.23W</td>\n",
       "    </tr>\n",
       "    <tr>\n",
       "      <th>3</th>\n",
       "      <td>1849-04-01</td>\n",
       "      <td>26.140</td>\n",
       "      <td>1.387</td>\n",
       "      <td>Abidjan</td>\n",
       "      <td>Côte D'Ivoire</td>\n",
       "      <td>5.63N</td>\n",
       "      <td>3.23W</td>\n",
       "    </tr>\n",
       "    <tr>\n",
       "      <th>4</th>\n",
       "      <td>1849-05-01</td>\n",
       "      <td>25.427</td>\n",
       "      <td>1.200</td>\n",
       "      <td>Abidjan</td>\n",
       "      <td>Côte D'Ivoire</td>\n",
       "      <td>5.63N</td>\n",
       "      <td>3.23W</td>\n",
       "    </tr>\n",
       "    <tr>\n",
       "      <th>5</th>\n",
       "      <td>1849-06-01</td>\n",
       "      <td>24.844</td>\n",
       "      <td>1.402</td>\n",
       "      <td>Abidjan</td>\n",
       "      <td>Côte D'Ivoire</td>\n",
       "      <td>5.63N</td>\n",
       "      <td>3.23W</td>\n",
       "    </tr>\n",
       "    <tr>\n",
       "      <th>6</th>\n",
       "      <td>1849-07-01</td>\n",
       "      <td>24.058</td>\n",
       "      <td>1.254</td>\n",
       "      <td>Abidjan</td>\n",
       "      <td>Côte D'Ivoire</td>\n",
       "      <td>5.63N</td>\n",
       "      <td>3.23W</td>\n",
       "    </tr>\n",
       "  </tbody>\n",
       "</table>\n",
       "</div>"
      ],
      "text/plain": [
       "         Date  AVG_TEMP  AVG_TEMP_UNCERTAINITY     City        Country  \\\n",
       "0  1849-01-01    26.704                  1.435  Abidjan  Côte D'Ivoire   \n",
       "1  1849-02-01    27.434                  1.362  Abidjan  Côte D'Ivoire   \n",
       "2  1849-03-01    28.101                  1.612  Abidjan  Côte D'Ivoire   \n",
       "3  1849-04-01    26.140                  1.387  Abidjan  Côte D'Ivoire   \n",
       "4  1849-05-01    25.427                  1.200  Abidjan  Côte D'Ivoire   \n",
       "5  1849-06-01    24.844                  1.402  Abidjan  Côte D'Ivoire   \n",
       "6  1849-07-01    24.058                  1.254  Abidjan  Côte D'Ivoire   \n",
       "\n",
       "  Latitude Longitude  \n",
       "0    5.63N     3.23W  \n",
       "1    5.63N     3.23W  \n",
       "2    5.63N     3.23W  \n",
       "3    5.63N     3.23W  \n",
       "4    5.63N     3.23W  \n",
       "5    5.63N     3.23W  \n",
       "6    5.63N     3.23W  "
      ]
     },
     "execution_count": 74,
     "metadata": {},
     "output_type": "execute_result"
    }
   ],
   "source": [
    "data.head(7)"
   ]
  },
  {
   "cell_type": "code",
   "execution_count": 75,
   "id": "169530cd-9c6e-452d-9970-d1f2f7df498b",
   "metadata": {},
   "outputs": [
    {
     "data": {
      "text/html": [
       "<div>\n",
       "<style scoped>\n",
       "    .dataframe tbody tr th:only-of-type {\n",
       "        vertical-align: middle;\n",
       "    }\n",
       "\n",
       "    .dataframe tbody tr th {\n",
       "        vertical-align: top;\n",
       "    }\n",
       "\n",
       "    .dataframe thead th {\n",
       "        text-align: right;\n",
       "    }\n",
       "</style>\n",
       "<table border=\"1\" class=\"dataframe\">\n",
       "  <thead>\n",
       "    <tr style=\"text-align: right;\">\n",
       "      <th></th>\n",
       "      <th>Date</th>\n",
       "      <th>AVG_TEMP</th>\n",
       "      <th>AVG_TEMP_UNCERTAINITY</th>\n",
       "      <th>City</th>\n",
       "      <th>Country</th>\n",
       "      <th>Latitude</th>\n",
       "      <th>Longitude</th>\n",
       "    </tr>\n",
       "  </thead>\n",
       "  <tbody>\n",
       "    <tr>\n",
       "      <th>239170</th>\n",
       "      <td>3/1/2013</td>\n",
       "      <td>10.110</td>\n",
       "      <td>0.480</td>\n",
       "      <td>Xian</td>\n",
       "      <td>China</td>\n",
       "      <td>34.56N</td>\n",
       "      <td>108.97E</td>\n",
       "    </tr>\n",
       "    <tr>\n",
       "      <th>239171</th>\n",
       "      <td>4/1/2013</td>\n",
       "      <td>12.563</td>\n",
       "      <td>1.823</td>\n",
       "      <td>Xian</td>\n",
       "      <td>China</td>\n",
       "      <td>34.56N</td>\n",
       "      <td>108.97E</td>\n",
       "    </tr>\n",
       "    <tr>\n",
       "      <th>239172</th>\n",
       "      <td>5/1/2013</td>\n",
       "      <td>18.979</td>\n",
       "      <td>0.807</td>\n",
       "      <td>Xian</td>\n",
       "      <td>China</td>\n",
       "      <td>34.56N</td>\n",
       "      <td>108.97E</td>\n",
       "    </tr>\n",
       "    <tr>\n",
       "      <th>239173</th>\n",
       "      <td>6/1/2013</td>\n",
       "      <td>23.522</td>\n",
       "      <td>0.647</td>\n",
       "      <td>Xian</td>\n",
       "      <td>China</td>\n",
       "      <td>34.56N</td>\n",
       "      <td>108.97E</td>\n",
       "    </tr>\n",
       "    <tr>\n",
       "      <th>239174</th>\n",
       "      <td>7/1/2013</td>\n",
       "      <td>25.251</td>\n",
       "      <td>1.042</td>\n",
       "      <td>Xian</td>\n",
       "      <td>China</td>\n",
       "      <td>34.56N</td>\n",
       "      <td>108.97E</td>\n",
       "    </tr>\n",
       "    <tr>\n",
       "      <th>239175</th>\n",
       "      <td>8/1/2013</td>\n",
       "      <td>24.528</td>\n",
       "      <td>0.840</td>\n",
       "      <td>Xian</td>\n",
       "      <td>China</td>\n",
       "      <td>34.56N</td>\n",
       "      <td>108.97E</td>\n",
       "    </tr>\n",
       "    <tr>\n",
       "      <th>239176</th>\n",
       "      <td>9/1/2013</td>\n",
       "      <td>NaN</td>\n",
       "      <td>NaN</td>\n",
       "      <td>Xian</td>\n",
       "      <td>China</td>\n",
       "      <td>34.56N</td>\n",
       "      <td>108.97E</td>\n",
       "    </tr>\n",
       "  </tbody>\n",
       "</table>\n",
       "</div>"
      ],
      "text/plain": [
       "            Date  AVG_TEMP  AVG_TEMP_UNCERTAINITY  City Country Latitude  \\\n",
       "239170  3/1/2013    10.110                  0.480  Xian   China   34.56N   \n",
       "239171  4/1/2013    12.563                  1.823  Xian   China   34.56N   \n",
       "239172  5/1/2013    18.979                  0.807  Xian   China   34.56N   \n",
       "239173  6/1/2013    23.522                  0.647  Xian   China   34.56N   \n",
       "239174  7/1/2013    25.251                  1.042  Xian   China   34.56N   \n",
       "239175  8/1/2013    24.528                  0.840  Xian   China   34.56N   \n",
       "239176  9/1/2013       NaN                    NaN  Xian   China   34.56N   \n",
       "\n",
       "       Longitude  \n",
       "239170   108.97E  \n",
       "239171   108.97E  \n",
       "239172   108.97E  \n",
       "239173   108.97E  \n",
       "239174   108.97E  \n",
       "239175   108.97E  \n",
       "239176   108.97E  "
      ]
     },
     "execution_count": 75,
     "metadata": {},
     "output_type": "execute_result"
    }
   ],
   "source": [
    "data.tail(7)"
   ]
  },
  {
   "cell_type": "code",
   "execution_count": 79,
   "id": "07b6548b-cb4c-407d-885b-2c77d5562731",
   "metadata": {},
   "outputs": [
    {
     "data": {
      "text/plain": [
       "73335"
      ]
     },
     "execution_count": 79,
     "metadata": {},
     "output_type": "execute_result"
    }
   ],
   "source": [
    "data.duplicated(subset = [\"AVG_TEMP\", \"Country\"]).sum()"
   ]
  },
  {
   "cell_type": "code",
   "execution_count": 84,
   "id": "6e8caf03-9ba6-4982-8bfd-22db06202abe",
   "metadata": {},
   "outputs": [],
   "source": [
    "data.drop_duplicates(subset = [\"AVG_TEMP\", \"Country\"]).to_excel(\"processed.xlsx\", index = False)"
   ]
  },
  {
   "cell_type": "code",
   "execution_count": 81,
   "id": "8ef63db0-93d3-4890-8cb7-2d32b6f6ab61",
   "metadata": {},
   "outputs": [
    {
     "data": {
      "text/plain": [
       "73335"
      ]
     },
     "execution_count": 81,
     "metadata": {},
     "output_type": "execute_result"
    }
   ],
   "source": [
    "239177 - 165842"
   ]
  },
  {
   "cell_type": "code",
   "execution_count": 96,
   "id": "821be362-b821-4f86-8de6-5e941b18015c",
   "metadata": {},
   "outputs": [
    {
     "data": {
      "text/plain": [
       "Date                         0\n",
       "AVG_TEMP                 11002\n",
       "AVG_TEMP_UNCERTAINITY    11002\n",
       "City                         0\n",
       "Country                      0\n",
       "Latitude                     0\n",
       "Longitude                    0\n",
       "dtype: int64"
      ]
     },
     "execution_count": 96,
     "metadata": {},
     "output_type": "execute_result"
    }
   ],
   "source": [
    "data.isna().sum()"
   ]
  },
  {
   "cell_type": "code",
   "execution_count": 98,
   "id": "ecc0838b-5229-4f38-a834-b0f8c4decc4a",
   "metadata": {},
   "outputs": [
    {
     "data": {
      "text/html": [
       "<div>\n",
       "<style scoped>\n",
       "    .dataframe tbody tr th:only-of-type {\n",
       "        vertical-align: middle;\n",
       "    }\n",
       "\n",
       "    .dataframe tbody tr th {\n",
       "        vertical-align: top;\n",
       "    }\n",
       "\n",
       "    .dataframe thead th {\n",
       "        text-align: right;\n",
       "    }\n",
       "</style>\n",
       "<table border=\"1\" class=\"dataframe\">\n",
       "  <thead>\n",
       "    <tr style=\"text-align: right;\">\n",
       "      <th></th>\n",
       "      <th>AVG_TEMP</th>\n",
       "      <th>AVG_TEMP_UNCERTAINITY</th>\n",
       "    </tr>\n",
       "  </thead>\n",
       "  <tbody>\n",
       "    <tr>\n",
       "      <th>count</th>\n",
       "      <td>228175.000000</td>\n",
       "      <td>228175.000000</td>\n",
       "    </tr>\n",
       "    <tr>\n",
       "      <th>mean</th>\n",
       "      <td>18.125969</td>\n",
       "      <td>0.969343</td>\n",
       "    </tr>\n",
       "    <tr>\n",
       "      <th>std</th>\n",
       "      <td>10.024800</td>\n",
       "      <td>0.979644</td>\n",
       "    </tr>\n",
       "    <tr>\n",
       "      <th>min</th>\n",
       "      <td>-26.772000</td>\n",
       "      <td>0.040000</td>\n",
       "    </tr>\n",
       "    <tr>\n",
       "      <th>25%</th>\n",
       "      <td>12.710000</td>\n",
       "      <td>0.340000</td>\n",
       "    </tr>\n",
       "    <tr>\n",
       "      <th>50%</th>\n",
       "      <td>20.428000</td>\n",
       "      <td>0.592000</td>\n",
       "    </tr>\n",
       "    <tr>\n",
       "      <th>75%</th>\n",
       "      <td>25.918000</td>\n",
       "      <td>1.320000</td>\n",
       "    </tr>\n",
       "    <tr>\n",
       "      <th>max</th>\n",
       "      <td>38.283000</td>\n",
       "      <td>14.037000</td>\n",
       "    </tr>\n",
       "  </tbody>\n",
       "</table>\n",
       "</div>"
      ],
      "text/plain": [
       "            AVG_TEMP  AVG_TEMP_UNCERTAINITY\n",
       "count  228175.000000          228175.000000\n",
       "mean       18.125969               0.969343\n",
       "std        10.024800               0.979644\n",
       "min       -26.772000               0.040000\n",
       "25%        12.710000               0.340000\n",
       "50%        20.428000               0.592000\n",
       "75%        25.918000               1.320000\n",
       "max        38.283000              14.037000"
      ]
     },
     "execution_count": 98,
     "metadata": {},
     "output_type": "execute_result"
    }
   ],
   "source": [
    "data.describe()"
   ]
  },
  {
   "cell_type": "code",
   "execution_count": 99,
   "id": "cd13452e-52c5-4185-add2-e6064c587b23",
   "metadata": {},
   "outputs": [
    {
     "data": {
      "text/plain": [
       "Date                      object\n",
       "AVG_TEMP                 float64\n",
       "AVG_TEMP_UNCERTAINITY    float64\n",
       "City                      object\n",
       "Country                   object\n",
       "Latitude                  object\n",
       "Longitude                 object\n",
       "dtype: object"
      ]
     },
     "execution_count": 99,
     "metadata": {},
     "output_type": "execute_result"
    }
   ],
   "source": [
    "data.dtypes"
   ]
  },
  {
   "cell_type": "code",
   "execution_count": 101,
   "id": "e5e0b50d-cc87-484f-839a-2be5094cbb8b",
   "metadata": {},
   "outputs": [
    {
     "data": {
      "text/plain": [
       "18.125968852854168"
      ]
     },
     "execution_count": 101,
     "metadata": {},
     "output_type": "execute_result"
    }
   ],
   "source": [
    "data[\"AVG_TEMP\"].mean()"
   ]
  },
  {
   "cell_type": "code",
   "execution_count": 104,
   "id": "447d3c97-6c0e-4c05-bc05-4ed2d4cb53d1",
   "metadata": {},
   "outputs": [],
   "source": [
    "data[\"AVG_TEMP\"] = data[\"AVG_TEMP\"].fillna(data[\"AVG_TEMP\"].mean())"
   ]
  },
  {
   "cell_type": "code",
   "execution_count": 105,
   "id": "607138c9-a538-46cf-88fe-6b77347ca6f4",
   "metadata": {},
   "outputs": [
    {
     "data": {
      "text/plain": [
       "Date                         0\n",
       "AVG_TEMP                     0\n",
       "AVG_TEMP_UNCERTAINITY    11002\n",
       "City                         0\n",
       "Country                      0\n",
       "Latitude                     0\n",
       "Longitude                    0\n",
       "dtype: int64"
      ]
     },
     "execution_count": 105,
     "metadata": {},
     "output_type": "execute_result"
    }
   ],
   "source": [
    "data.isna().sum()"
   ]
  },
  {
   "cell_type": "code",
   "execution_count": 106,
   "id": "941a8272-3ad8-4142-8f30-488e3e794b02",
   "metadata": {},
   "outputs": [],
   "source": [
    "import matplotlib.pyplot as plt"
   ]
  },
  {
   "cell_type": "code",
   "execution_count": 108,
   "id": "e2f814e5-03c6-4f3d-9a5b-296f4e546c89",
   "metadata": {},
   "outputs": [
    {
     "data": {
      "image/png": "[encoded data removed]",
      "text/plain": [
       "<Figure size 1000x900 with 1 Axes>"
      ]
     },
     "metadata": {},
     "output_type": "display_data"
    }
   ],
   "source": [
    "plt.figure(figsize = (10, 9))\n",
    "plt.scatter(data[\"City\"], data[\"AVG_TEMP\"])\n",
    "plt.show()"
   ]
  },
  {
   "cell_type": "code",
   "execution_count": 112,
   "id": "88745a61-747a-4680-8c5f-366ffad31558",
   "metadata": {},
   "outputs": [],
   "source": [
    "data = data.drop_duplicates(subset = [\"City\", \"AVG_TEMP\"])"
   ]
  },
  {
   "cell_type": "code",
   "execution_count": 137,
   "id": "e20dc9d0-1049-449a-9bdf-52df6cbead8e",
   "metadata": {},
   "outputs": [
    {
     "data": {
      "image/png": "[encoded data removed]",
      "text/plain": [
       "<Figure size 1000x900 with 1 Axes>"
      ]
     },
     "metadata": {},
     "output_type": "display_data"
    }
   ],
   "source": [
    "plt.figure(figsize = (10, 9))\n",
    "plt.scatter(data[\"Date\"][:10], data[\"AVG_TEMP\"][:10])\n",
    "plt.show()"
   ]
  },
  {
   "cell_type": "code",
   "execution_count": 115,
   "id": "c66c8485-2d4b-4722-b54a-1ca62a101a4f",
   "metadata": {},
   "outputs": [],
   "source": [
    "a = [1,2,3,4,5,6,67,7,9]"
   ]
  },
  {
   "cell_type": "code",
   "execution_count": 116,
   "id": "e4398d7e-6a4f-45e9-8484-da83206dc871",
   "metadata": {},
   "outputs": [
    {
     "data": {
      "text/plain": [
       "[1, 2, 3]"
      ]
     },
     "execution_count": 116,
     "metadata": {},
     "output_type": "execute_result"
    }
   ],
   "source": [
    "a[ : 3]"
   ]
  },
  {
   "cell_type": "code",
   "execution_count": 132,
   "id": "aba47d3f-d4c2-4de6-bf84-13b69befd7ca",
   "metadata": {},
   "outputs": [
    {
     "data": {
      "text/plain": [
       "City     AVG_TEMP  \n",
       "Abidjan   18.125969    1\n",
       "Nagpur    21.325000    1\n",
       "          21.270000    1\n",
       "          21.279000    1\n",
       "          21.282000    1\n",
       "                      ..\n",
       "Harbin   -20.538000    1\n",
       "         -20.500000    1\n",
       "         -20.450000    1\n",
       "         -20.412000    1\n",
       "Xian      26.762000    1\n",
       "Length: 206132, dtype: int64"
      ]
     },
     "execution_count": 132,
     "metadata": {},
     "output_type": "execute_result"
    }
   ],
   "source": [
    "data[[\"City\", \"AVG_TEMP\"]].value_counts()"
   ]
  },
  {
   "cell_type": "code",
   "execution_count": 123,
   "id": "447baec6-153d-4e6d-be9f-4871edc8bceb",
   "metadata": {},
   "outputs": [],
   "source": [
    "import numpy as np"
   ]
  },
  {
   "cell_type": "code",
   "execution_count": 133,
   "id": "4a2d4242-6a98-4405-a0a2-803f5bbc49e0",
   "metadata": {},
   "outputs": [
    {
     "data": {
      "text/html": [
       "<div>\n",
       "<style scoped>\n",
       "    .dataframe tbody tr th:only-of-type {\n",
       "        vertical-align: middle;\n",
       "    }\n",
       "\n",
       "    .dataframe tbody tr th {\n",
       "        vertical-align: top;\n",
       "    }\n",
       "\n",
       "    .dataframe thead th {\n",
       "        text-align: right;\n",
       "    }\n",
       "</style>\n",
       "<table border=\"1\" class=\"dataframe\">\n",
       "  <thead>\n",
       "    <tr style=\"text-align: right;\">\n",
       "      <th></th>\n",
       "      <th>City</th>\n",
       "      <th>AVG_TEMP</th>\n",
       "    </tr>\n",
       "  </thead>\n",
       "  <tbody>\n",
       "    <tr>\n",
       "      <th>0</th>\n",
       "      <td>Abidjan</td>\n",
       "      <td>26.704</td>\n",
       "    </tr>\n",
       "    <tr>\n",
       "      <th>1</th>\n",
       "      <td>Abidjan</td>\n",
       "      <td>27.434</td>\n",
       "    </tr>\n",
       "    <tr>\n",
       "      <th>2</th>\n",
       "      <td>Abidjan</td>\n",
       "      <td>28.101</td>\n",
       "    </tr>\n",
       "    <tr>\n",
       "      <th>3</th>\n",
       "      <td>Abidjan</td>\n",
       "      <td>26.140</td>\n",
       "    </tr>\n",
       "    <tr>\n",
       "      <th>4</th>\n",
       "      <td>Abidjan</td>\n",
       "      <td>25.427</td>\n",
       "    </tr>\n",
       "    <tr>\n",
       "      <th>...</th>\n",
       "      <td>...</td>\n",
       "      <td>...</td>\n",
       "    </tr>\n",
       "    <tr>\n",
       "      <th>239171</th>\n",
       "      <td>Xian</td>\n",
       "      <td>12.563</td>\n",
       "    </tr>\n",
       "    <tr>\n",
       "      <th>239172</th>\n",
       "      <td>Xian</td>\n",
       "      <td>18.979</td>\n",
       "    </tr>\n",
       "    <tr>\n",
       "      <th>239173</th>\n",
       "      <td>Xian</td>\n",
       "      <td>23.522</td>\n",
       "    </tr>\n",
       "    <tr>\n",
       "      <th>239174</th>\n",
       "      <td>Xian</td>\n",
       "      <td>25.251</td>\n",
       "    </tr>\n",
       "    <tr>\n",
       "      <th>239175</th>\n",
       "      <td>Xian</td>\n",
       "      <td>24.528</td>\n",
       "    </tr>\n",
       "  </tbody>\n",
       "</table>\n",
       "<p>206132 rows × 2 columns</p>\n",
       "</div>"
      ],
      "text/plain": [
       "           City  AVG_TEMP\n",
       "0       Abidjan    26.704\n",
       "1       Abidjan    27.434\n",
       "2       Abidjan    28.101\n",
       "3       Abidjan    26.140\n",
       "4       Abidjan    25.427\n",
       "...         ...       ...\n",
       "239171     Xian    12.563\n",
       "239172     Xian    18.979\n",
       "239173     Xian    23.522\n",
       "239174     Xian    25.251\n",
       "239175     Xian    24.528\n",
       "\n",
       "[206132 rows x 2 columns]"
      ]
     },
     "execution_count": 133,
     "metadata": {},
     "output_type": "execute_result"
    }
   ],
   "source": [
    "data[[\"City\", \"AVG_TEMP\"]]"
   ]
  },
  {
   "cell_type": "code",
   "execution_count": 138,
   "id": "90c6bac0-d367-4be2-97fd-94b15e8b1109",
   "metadata": {},
   "outputs": [
    {
     "data": {
      "image/png": "[encoded data removed]",
      "text/plain": [
       "<Figure size 1000x900 with 1 Axes>"
      ]
     },
     "metadata": {},
     "output_type": "display_data"
    }
   ],
   "source": [
    "plt.figure(figsize = (10, 9))\n",
    "plt.bar(data[\"Date\"][:10], data[\"AVG_TEMP\"][:10])\n",
    "plt.show()"
   ]
  },
  {
   "cell_type": "code",
   "execution_count": 141,
   "id": "5bddfcb4-5eae-4dd8-b729-bfca4c40b391",
   "metadata": {},
   "outputs": [
    {
     "data": {
      "image/png": "[encoded data removed]",
      "text/plain": [
       "<Figure size 1000x900 with 1 Axes>"
      ]
     },
     "metadata": {},
     "output_type": "display_data"
    }
   ],
   "source": [
    "plt.figure(figsize = (10, 9))\n",
    "plt.scatter(data[\"Date\"][:10], data[\"AVG_TEMP\"][:10], c = \"r\")\n",
    "plt.plot(data[\"Date\"][:10], data[\"AVG_TEMP\"][:10])\n",
    "plt.show()"
   ]
  },
  {
   "cell_type": "code",
   "execution_count": 142,
   "id": "8659e4d1-923d-4694-adb2-c3522f75c690",
   "metadata": {},
   "outputs": [
    {
     "data": {
      "text/html": [
       "<div>\n",
       "<style scoped>\n",
       "    .dataframe tbody tr th:only-of-type {\n",
       "        vertical-align: middle;\n",
       "    }\n",
       "\n",
       "    .dataframe tbody tr th {\n",
       "        vertical-align: top;\n",
       "    }\n",
       "\n",
       "    .dataframe thead th {\n",
       "        text-align: right;\n",
       "    }\n",
       "</style>\n",
       "<table border=\"1\" class=\"dataframe\">\n",
       "  <thead>\n",
       "    <tr style=\"text-align: right;\">\n",
       "      <th></th>\n",
       "      <th>Date</th>\n",
       "      <th>AVG_TEMP</th>\n",
       "      <th>AVG_TEMP_UNCERTAINITY</th>\n",
       "      <th>City</th>\n",
       "      <th>Country</th>\n",
       "      <th>Latitude</th>\n",
       "      <th>Longitude</th>\n",
       "    </tr>\n",
       "  </thead>\n",
       "  <tbody>\n",
       "    <tr>\n",
       "      <th>160505</th>\n",
       "      <td>1796-01-01</td>\n",
       "      <td>19.317</td>\n",
       "      <td>2.286</td>\n",
       "      <td>Nagpur</td>\n",
       "      <td>India</td>\n",
       "      <td>21.70N</td>\n",
       "      <td>78.75E</td>\n",
       "    </tr>\n",
       "    <tr>\n",
       "      <th>160506</th>\n",
       "      <td>1796-02-01</td>\n",
       "      <td>21.515</td>\n",
       "      <td>1.616</td>\n",
       "      <td>Nagpur</td>\n",
       "      <td>India</td>\n",
       "      <td>21.70N</td>\n",
       "      <td>78.75E</td>\n",
       "    </tr>\n",
       "    <tr>\n",
       "      <th>160507</th>\n",
       "      <td>1796-03-01</td>\n",
       "      <td>24.978</td>\n",
       "      <td>2.436</td>\n",
       "      <td>Nagpur</td>\n",
       "      <td>India</td>\n",
       "      <td>21.70N</td>\n",
       "      <td>78.75E</td>\n",
       "    </tr>\n",
       "    <tr>\n",
       "      <th>160508</th>\n",
       "      <td>1796-04-01</td>\n",
       "      <td>30.977</td>\n",
       "      <td>1.871</td>\n",
       "      <td>Nagpur</td>\n",
       "      <td>India</td>\n",
       "      <td>21.70N</td>\n",
       "      <td>78.75E</td>\n",
       "    </tr>\n",
       "    <tr>\n",
       "      <th>160509</th>\n",
       "      <td>1796-05-01</td>\n",
       "      <td>34.121</td>\n",
       "      <td>1.607</td>\n",
       "      <td>Nagpur</td>\n",
       "      <td>India</td>\n",
       "      <td>21.70N</td>\n",
       "      <td>78.75E</td>\n",
       "    </tr>\n",
       "    <tr>\n",
       "      <th>...</th>\n",
       "      <td>...</td>\n",
       "      <td>...</td>\n",
       "      <td>...</td>\n",
       "      <td>...</td>\n",
       "      <td>...</td>\n",
       "      <td>...</td>\n",
       "      <td>...</td>\n",
       "    </tr>\n",
       "    <tr>\n",
       "      <th>163112</th>\n",
       "      <td>4/1/2013</td>\n",
       "      <td>31.107</td>\n",
       "      <td>0.331</td>\n",
       "      <td>Nagpur</td>\n",
       "      <td>India</td>\n",
       "      <td>21.70N</td>\n",
       "      <td>78.75E</td>\n",
       "    </tr>\n",
       "    <tr>\n",
       "      <th>163113</th>\n",
       "      <td>5/1/2013</td>\n",
       "      <td>35.869</td>\n",
       "      <td>0.592</td>\n",
       "      <td>Nagpur</td>\n",
       "      <td>India</td>\n",
       "      <td>21.70N</td>\n",
       "      <td>78.75E</td>\n",
       "    </tr>\n",
       "    <tr>\n",
       "      <th>163114</th>\n",
       "      <td>6/1/2013</td>\n",
       "      <td>29.540</td>\n",
       "      <td>0.735</td>\n",
       "      <td>Nagpur</td>\n",
       "      <td>India</td>\n",
       "      <td>21.70N</td>\n",
       "      <td>78.75E</td>\n",
       "    </tr>\n",
       "    <tr>\n",
       "      <th>163115</th>\n",
       "      <td>7/1/2013</td>\n",
       "      <td>26.258</td>\n",
       "      <td>0.274</td>\n",
       "      <td>Nagpur</td>\n",
       "      <td>India</td>\n",
       "      <td>21.70N</td>\n",
       "      <td>78.75E</td>\n",
       "    </tr>\n",
       "    <tr>\n",
       "      <th>163116</th>\n",
       "      <td>8/1/2013</td>\n",
       "      <td>25.930</td>\n",
       "      <td>0.406</td>\n",
       "      <td>Nagpur</td>\n",
       "      <td>India</td>\n",
       "      <td>21.70N</td>\n",
       "      <td>78.75E</td>\n",
       "    </tr>\n",
       "  </tbody>\n",
       "</table>\n",
       "<p>2284 rows × 7 columns</p>\n",
       "</div>"
      ],
      "text/plain": [
       "              Date  AVG_TEMP  AVG_TEMP_UNCERTAINITY    City Country Latitude  \\\n",
       "160505  1796-01-01    19.317                  2.286  Nagpur   India   21.70N   \n",
       "160506  1796-02-01    21.515                  1.616  Nagpur   India   21.70N   \n",
       "160507  1796-03-01    24.978                  2.436  Nagpur   India   21.70N   \n",
       "160508  1796-04-01    30.977                  1.871  Nagpur   India   21.70N   \n",
       "160509  1796-05-01    34.121                  1.607  Nagpur   India   21.70N   \n",
       "...            ...       ...                    ...     ...     ...      ...   \n",
       "163112    4/1/2013    31.107                  0.331  Nagpur   India   21.70N   \n",
       "163113    5/1/2013    35.869                  0.592  Nagpur   India   21.70N   \n",
       "163114    6/1/2013    29.540                  0.735  Nagpur   India   21.70N   \n",
       "163115    7/1/2013    26.258                  0.274  Nagpur   India   21.70N   \n",
       "163116    8/1/2013    25.930                  0.406  Nagpur   India   21.70N   \n",
       "\n",
       "       Longitude  \n",
       "160505    78.75E  \n",
       "160506    78.75E  \n",
       "160507    78.75E  \n",
       "160508    78.75E  \n",
       "160509    78.75E  \n",
       "...          ...  \n",
       "163112    78.75E  \n",
       "163113    78.75E  \n",
       "163114    78.75E  \n",
       "163115    78.75E  \n",
       "163116    78.75E  \n",
       "\n",
       "[2284 rows x 7 columns]"
      ]
     },
     "execution_count": 142,
     "metadata": {},
     "output_type": "execute_result"
    }
   ],
   "source": [
    "data[data[\"City\"] == \"Nagpur\", Data[]"
   ]
  },
  {
   "cell_type": "code",
   "execution_count": 164,
   "id": "39c42e19-b017-4f93-ac9c-9638ebf183c4",
   "metadata": {},
   "outputs": [
    {
     "data": {
      "text/plain": [
       "array([     0,      1,      2, ..., 239173, 239174, 239175], dtype=int64)"
      ]
     },
     "execution_count": 164,
     "metadata": {},
     "output_type": "execute_result"
    }
   ],
   "source": [
    "data[\"Date\"].map(lambda x: x.split(\"-\")[2] if \"-\" in x else x.split(\"/\")[1]).index.values"
   ]
  },
  {
   "cell_type": "code",
   "execution_count": 168,
   "id": "ed0243fc-3b14-4892-9b5e-2a374cd753fd",
   "metadata": {},
   "outputs": [
    {
     "data": {
      "text/html": [
       "<div>\n",
       "<style scoped>\n",
       "    .dataframe tbody tr th:only-of-type {\n",
       "        vertical-align: middle;\n",
       "    }\n",
       "\n",
       "    .dataframe tbody tr th {\n",
       "        vertical-align: top;\n",
       "    }\n",
       "\n",
       "    .dataframe thead th {\n",
       "        text-align: right;\n",
       "    }\n",
       "</style>\n",
       "<table border=\"1\" class=\"dataframe\">\n",
       "  <thead>\n",
       "    <tr style=\"text-align: right;\">\n",
       "      <th></th>\n",
       "      <th>Date</th>\n",
       "      <th>AVG_TEMP</th>\n",
       "      <th>AVG_TEMP_UNCERTAINITY</th>\n",
       "      <th>City</th>\n",
       "      <th>Country</th>\n",
       "      <th>Latitude</th>\n",
       "      <th>Longitude</th>\n",
       "    </tr>\n",
       "  </thead>\n",
       "  <tbody>\n",
       "    <tr>\n",
       "      <th>0</th>\n",
       "      <td>1849-01-01</td>\n",
       "      <td>26.704</td>\n",
       "      <td>1.435</td>\n",
       "      <td>Abidjan</td>\n",
       "      <td>Côte D'Ivoire</td>\n",
       "      <td>5.63N</td>\n",
       "      <td>3.23W</td>\n",
       "    </tr>\n",
       "    <tr>\n",
       "      <th>1</th>\n",
       "      <td>1849-02-01</td>\n",
       "      <td>27.434</td>\n",
       "      <td>1.362</td>\n",
       "      <td>Abidjan</td>\n",
       "      <td>Côte D'Ivoire</td>\n",
       "      <td>5.63N</td>\n",
       "      <td>3.23W</td>\n",
       "    </tr>\n",
       "    <tr>\n",
       "      <th>2</th>\n",
       "      <td>1849-03-01</td>\n",
       "      <td>28.101</td>\n",
       "      <td>1.612</td>\n",
       "      <td>Abidjan</td>\n",
       "      <td>Côte D'Ivoire</td>\n",
       "      <td>5.63N</td>\n",
       "      <td>3.23W</td>\n",
       "    </tr>\n",
       "    <tr>\n",
       "      <th>3</th>\n",
       "      <td>1849-04-01</td>\n",
       "      <td>26.140</td>\n",
       "      <td>1.387</td>\n",
       "      <td>Abidjan</td>\n",
       "      <td>Côte D'Ivoire</td>\n",
       "      <td>5.63N</td>\n",
       "      <td>3.23W</td>\n",
       "    </tr>\n",
       "    <tr>\n",
       "      <th>4</th>\n",
       "      <td>1849-05-01</td>\n",
       "      <td>25.427</td>\n",
       "      <td>1.200</td>\n",
       "      <td>Abidjan</td>\n",
       "      <td>Côte D'Ivoire</td>\n",
       "      <td>5.63N</td>\n",
       "      <td>3.23W</td>\n",
       "    </tr>\n",
       "    <tr>\n",
       "      <th>...</th>\n",
       "      <td>...</td>\n",
       "      <td>...</td>\n",
       "      <td>...</td>\n",
       "      <td>...</td>\n",
       "      <td>...</td>\n",
       "      <td>...</td>\n",
       "      <td>...</td>\n",
       "    </tr>\n",
       "    <tr>\n",
       "      <th>239171</th>\n",
       "      <td>4/1/2013</td>\n",
       "      <td>12.563</td>\n",
       "      <td>1.823</td>\n",
       "      <td>Xian</td>\n",
       "      <td>China</td>\n",
       "      <td>34.56N</td>\n",
       "      <td>108.97E</td>\n",
       "    </tr>\n",
       "    <tr>\n",
       "      <th>239172</th>\n",
       "      <td>5/1/2013</td>\n",
       "      <td>18.979</td>\n",
       "      <td>0.807</td>\n",
       "      <td>Xian</td>\n",
       "      <td>China</td>\n",
       "      <td>34.56N</td>\n",
       "      <td>108.97E</td>\n",
       "    </tr>\n",
       "    <tr>\n",
       "      <th>239173</th>\n",
       "      <td>6/1/2013</td>\n",
       "      <td>23.522</td>\n",
       "      <td>0.647</td>\n",
       "      <td>Xian</td>\n",
       "      <td>China</td>\n",
       "      <td>34.56N</td>\n",
       "      <td>108.97E</td>\n",
       "    </tr>\n",
       "    <tr>\n",
       "      <th>239174</th>\n",
       "      <td>7/1/2013</td>\n",
       "      <td>25.251</td>\n",
       "      <td>1.042</td>\n",
       "      <td>Xian</td>\n",
       "      <td>China</td>\n",
       "      <td>34.56N</td>\n",
       "      <td>108.97E</td>\n",
       "    </tr>\n",
       "    <tr>\n",
       "      <th>239175</th>\n",
       "      <td>8/1/2013</td>\n",
       "      <td>24.528</td>\n",
       "      <td>0.840</td>\n",
       "      <td>Xian</td>\n",
       "      <td>China</td>\n",
       "      <td>34.56N</td>\n",
       "      <td>108.97E</td>\n",
       "    </tr>\n",
       "  </tbody>\n",
       "</table>\n",
       "<p>206132 rows × 7 columns</p>\n",
       "</div>"
      ],
      "text/plain": [
       "              Date  AVG_TEMP  AVG_TEMP_UNCERTAINITY     City        Country  \\\n",
       "0       1849-01-01    26.704                  1.435  Abidjan  Côte D'Ivoire   \n",
       "1       1849-02-01    27.434                  1.362  Abidjan  Côte D'Ivoire   \n",
       "2       1849-03-01    28.101                  1.612  Abidjan  Côte D'Ivoire   \n",
       "3       1849-04-01    26.140                  1.387  Abidjan  Côte D'Ivoire   \n",
       "4       1849-05-01    25.427                  1.200  Abidjan  Côte D'Ivoire   \n",
       "...            ...       ...                    ...      ...            ...   \n",
       "239171    4/1/2013    12.563                  1.823     Xian          China   \n",
       "239172    5/1/2013    18.979                  0.807     Xian          China   \n",
       "239173    6/1/2013    23.522                  0.647     Xian          China   \n",
       "239174    7/1/2013    25.251                  1.042     Xian          China   \n",
       "239175    8/1/2013    24.528                  0.840     Xian          China   \n",
       "\n",
       "       Latitude Longitude  \n",
       "0         5.63N     3.23W  \n",
       "1         5.63N     3.23W  \n",
       "2         5.63N     3.23W  \n",
       "3         5.63N     3.23W  \n",
       "4         5.63N     3.23W  \n",
       "...         ...       ...  \n",
       "239171   34.56N   108.97E  \n",
       "239172   34.56N   108.97E  \n",
       "239173   34.56N   108.97E  \n",
       "239174   34.56N   108.97E  \n",
       "239175   34.56N   108.97E  \n",
       "\n",
       "[206132 rows x 7 columns]"
      ]
     },
     "execution_count": 168,
     "metadata": {},
     "output_type": "execute_result"
    }
   ],
   "source": [
    "data.filter(items = data[\"Date\"].map(lambda x: x.split(\"-\")[2] if \"-\" in x else x.split(\"/\")[1]).index, axis = 0)"
   ]
  },
  {
   "cell_type": "code",
   "execution_count": 174,
   "id": "58f96718-5d0b-4d06-991a-05b869038995",
   "metadata": {},
   "outputs": [],
   "source": [
    "ir = data[\"Date\"].map(lambda x: x.split(\"-\")[2] if \"-\" in x else x.split(\"/\")[1]).index"
   ]
  },
  {
   "cell_type": "code",
   "execution_count": 175,
   "id": "ed49d6cb-a286-4045-bb10-50fd60bd4024",
   "metadata": {},
   "outputs": [
    {
     "data": {
      "text/plain": [
       "Int64Index([     0,      1,      2,      3,      4,      5,      6,      7,\n",
       "                 8,      9,\n",
       "            ...\n",
       "            239165, 239166, 239167, 239168, 239169, 239171, 239172, 239173,\n",
       "            239174, 239175],\n",
       "           dtype='int64', length=206132)"
      ]
     },
     "execution_count": 175,
     "metadata": {},
     "output_type": "execute_result"
    }
   ],
   "source": [
    "ir"
   ]
  },
  {
   "cell_type": "code",
   "execution_count": 183,
   "id": "627d8aa1-17d5-416e-9e54-b5a18bfafdf0",
   "metadata": {},
   "outputs": [],
   "source": [
    "new_data = data[data.index.isin(ir)]"
   ]
  },
  {
   "cell_type": "code",
   "execution_count": 184,
   "id": "080f8885-a490-414b-9792-b914bef1ab55",
   "metadata": {},
   "outputs": [
    {
     "data": {
      "text/html": [
       "<div>\n",
       "<style scoped>\n",
       "    .dataframe tbody tr th:only-of-type {\n",
       "        vertical-align: middle;\n",
       "    }\n",
       "\n",
       "    .dataframe tbody tr th {\n",
       "        vertical-align: top;\n",
       "    }\n",
       "\n",
       "    .dataframe thead th {\n",
       "        text-align: right;\n",
       "    }\n",
       "</style>\n",
       "<table border=\"1\" class=\"dataframe\">\n",
       "  <thead>\n",
       "    <tr style=\"text-align: right;\">\n",
       "      <th></th>\n",
       "      <th>Date</th>\n",
       "      <th>AVG_TEMP</th>\n",
       "      <th>AVG_TEMP_UNCERTAINITY</th>\n",
       "      <th>City</th>\n",
       "      <th>Country</th>\n",
       "      <th>Latitude</th>\n",
       "      <th>Longitude</th>\n",
       "    </tr>\n",
       "  </thead>\n",
       "  <tbody>\n",
       "    <tr>\n",
       "      <th>0</th>\n",
       "      <td>1849-01-01</td>\n",
       "      <td>26.704</td>\n",
       "      <td>1.435</td>\n",
       "      <td>Abidjan</td>\n",
       "      <td>Côte D'Ivoire</td>\n",
       "      <td>5.63N</td>\n",
       "      <td>3.23W</td>\n",
       "    </tr>\n",
       "    <tr>\n",
       "      <th>1</th>\n",
       "      <td>1849-02-01</td>\n",
       "      <td>27.434</td>\n",
       "      <td>1.362</td>\n",
       "      <td>Abidjan</td>\n",
       "      <td>Côte D'Ivoire</td>\n",
       "      <td>5.63N</td>\n",
       "      <td>3.23W</td>\n",
       "    </tr>\n",
       "    <tr>\n",
       "      <th>2</th>\n",
       "      <td>1849-03-01</td>\n",
       "      <td>28.101</td>\n",
       "      <td>1.612</td>\n",
       "      <td>Abidjan</td>\n",
       "      <td>Côte D'Ivoire</td>\n",
       "      <td>5.63N</td>\n",
       "      <td>3.23W</td>\n",
       "    </tr>\n",
       "    <tr>\n",
       "      <th>3</th>\n",
       "      <td>1849-04-01</td>\n",
       "      <td>26.140</td>\n",
       "      <td>1.387</td>\n",
       "      <td>Abidjan</td>\n",
       "      <td>Côte D'Ivoire</td>\n",
       "      <td>5.63N</td>\n",
       "      <td>3.23W</td>\n",
       "    </tr>\n",
       "    <tr>\n",
       "      <th>4</th>\n",
       "      <td>1849-05-01</td>\n",
       "      <td>25.427</td>\n",
       "      <td>1.200</td>\n",
       "      <td>Abidjan</td>\n",
       "      <td>Côte D'Ivoire</td>\n",
       "      <td>5.63N</td>\n",
       "      <td>3.23W</td>\n",
       "    </tr>\n",
       "    <tr>\n",
       "      <th>...</th>\n",
       "      <td>...</td>\n",
       "      <td>...</td>\n",
       "      <td>...</td>\n",
       "      <td>...</td>\n",
       "      <td>...</td>\n",
       "      <td>...</td>\n",
       "      <td>...</td>\n",
       "    </tr>\n",
       "    <tr>\n",
       "      <th>239171</th>\n",
       "      <td>4/1/2013</td>\n",
       "      <td>12.563</td>\n",
       "      <td>1.823</td>\n",
       "      <td>Xian</td>\n",
       "      <td>China</td>\n",
       "      <td>34.56N</td>\n",
       "      <td>108.97E</td>\n",
       "    </tr>\n",
       "    <tr>\n",
       "      <th>239172</th>\n",
       "      <td>5/1/2013</td>\n",
       "      <td>18.979</td>\n",
       "      <td>0.807</td>\n",
       "      <td>Xian</td>\n",
       "      <td>China</td>\n",
       "      <td>34.56N</td>\n",
       "      <td>108.97E</td>\n",
       "    </tr>\n",
       "    <tr>\n",
       "      <th>239173</th>\n",
       "      <td>6/1/2013</td>\n",
       "      <td>23.522</td>\n",
       "      <td>0.647</td>\n",
       "      <td>Xian</td>\n",
       "      <td>China</td>\n",
       "      <td>34.56N</td>\n",
       "      <td>108.97E</td>\n",
       "    </tr>\n",
       "    <tr>\n",
       "      <th>239174</th>\n",
       "      <td>7/1/2013</td>\n",
       "      <td>25.251</td>\n",
       "      <td>1.042</td>\n",
       "      <td>Xian</td>\n",
       "      <td>China</td>\n",
       "      <td>34.56N</td>\n",
       "      <td>108.97E</td>\n",
       "    </tr>\n",
       "    <tr>\n",
       "      <th>239175</th>\n",
       "      <td>8/1/2013</td>\n",
       "      <td>24.528</td>\n",
       "      <td>0.840</td>\n",
       "      <td>Xian</td>\n",
       "      <td>China</td>\n",
       "      <td>34.56N</td>\n",
       "      <td>108.97E</td>\n",
       "    </tr>\n",
       "  </tbody>\n",
       "</table>\n",
       "<p>206132 rows × 7 columns</p>\n",
       "</div>"
      ],
      "text/plain": [
       "              Date  AVG_TEMP  AVG_TEMP_UNCERTAINITY     City        Country  \\\n",
       "0       1849-01-01    26.704                  1.435  Abidjan  Côte D'Ivoire   \n",
       "1       1849-02-01    27.434                  1.362  Abidjan  Côte D'Ivoire   \n",
       "2       1849-03-01    28.101                  1.612  Abidjan  Côte D'Ivoire   \n",
       "3       1849-04-01    26.140                  1.387  Abidjan  Côte D'Ivoire   \n",
       "4       1849-05-01    25.427                  1.200  Abidjan  Côte D'Ivoire   \n",
       "...            ...       ...                    ...      ...            ...   \n",
       "239171    4/1/2013    12.563                  1.823     Xian          China   \n",
       "239172    5/1/2013    18.979                  0.807     Xian          China   \n",
       "239173    6/1/2013    23.522                  0.647     Xian          China   \n",
       "239174    7/1/2013    25.251                  1.042     Xian          China   \n",
       "239175    8/1/2013    24.528                  0.840     Xian          China   \n",
       "\n",
       "       Latitude Longitude  \n",
       "0         5.63N     3.23W  \n",
       "1         5.63N     3.23W  \n",
       "2         5.63N     3.23W  \n",
       "3         5.63N     3.23W  \n",
       "4         5.63N     3.23W  \n",
       "...         ...       ...  \n",
       "239171   34.56N   108.97E  \n",
       "239172   34.56N   108.97E  \n",
       "239173   34.56N   108.97E  \n",
       "239174   34.56N   108.97E  \n",
       "239175   34.56N   108.97E  \n",
       "\n",
       "[206132 rows x 7 columns]"
      ]
     },
     "execution_count": 184,
     "metadata": {},
     "output_type": "execute_result"
    }
   ],
   "source": [
    "new_data"
   ]
  },
  {
   "cell_type": "code",
   "execution_count": 187,
   "id": "a281430d-2fd4-4e57-b758-7bd0341ba240",
   "metadata": {},
   "outputs": [
    {
     "data": {
      "text/html": [
       "<div>\n",
       "<style scoped>\n",
       "    .dataframe tbody tr th:only-of-type {\n",
       "        vertical-align: middle;\n",
       "    }\n",
       "\n",
       "    .dataframe tbody tr th {\n",
       "        vertical-align: top;\n",
       "    }\n",
       "\n",
       "    .dataframe thead th {\n",
       "        text-align: right;\n",
       "    }\n",
       "</style>\n",
       "<table border=\"1\" class=\"dataframe\">\n",
       "  <thead>\n",
       "    <tr style=\"text-align: right;\">\n",
       "      <th></th>\n",
       "      <th>Date</th>\n",
       "      <th>AVG_TEMP</th>\n",
       "      <th>AVG_TEMP_UNCERTAINITY</th>\n",
       "      <th>City</th>\n",
       "      <th>Country</th>\n",
       "      <th>Latitude</th>\n",
       "      <th>Longitude</th>\n",
       "    </tr>\n",
       "  </thead>\n",
       "  <tbody>\n",
       "    <tr>\n",
       "      <th>160505</th>\n",
       "      <td>1796-01-01</td>\n",
       "      <td>19.317</td>\n",
       "      <td>2.286</td>\n",
       "      <td>Nagpur</td>\n",
       "      <td>India</td>\n",
       "      <td>21.70N</td>\n",
       "      <td>78.75E</td>\n",
       "    </tr>\n",
       "    <tr>\n",
       "      <th>160506</th>\n",
       "      <td>1796-02-01</td>\n",
       "      <td>21.515</td>\n",
       "      <td>1.616</td>\n",
       "      <td>Nagpur</td>\n",
       "      <td>India</td>\n",
       "      <td>21.70N</td>\n",
       "      <td>78.75E</td>\n",
       "    </tr>\n",
       "    <tr>\n",
       "      <th>160507</th>\n",
       "      <td>1796-03-01</td>\n",
       "      <td>24.978</td>\n",
       "      <td>2.436</td>\n",
       "      <td>Nagpur</td>\n",
       "      <td>India</td>\n",
       "      <td>21.70N</td>\n",
       "      <td>78.75E</td>\n",
       "    </tr>\n",
       "    <tr>\n",
       "      <th>160508</th>\n",
       "      <td>1796-04-01</td>\n",
       "      <td>30.977</td>\n",
       "      <td>1.871</td>\n",
       "      <td>Nagpur</td>\n",
       "      <td>India</td>\n",
       "      <td>21.70N</td>\n",
       "      <td>78.75E</td>\n",
       "    </tr>\n",
       "    <tr>\n",
       "      <th>160509</th>\n",
       "      <td>1796-05-01</td>\n",
       "      <td>34.121</td>\n",
       "      <td>1.607</td>\n",
       "      <td>Nagpur</td>\n",
       "      <td>India</td>\n",
       "      <td>21.70N</td>\n",
       "      <td>78.75E</td>\n",
       "    </tr>\n",
       "    <tr>\n",
       "      <th>...</th>\n",
       "      <td>...</td>\n",
       "      <td>...</td>\n",
       "      <td>...</td>\n",
       "      <td>...</td>\n",
       "      <td>...</td>\n",
       "      <td>...</td>\n",
       "      <td>...</td>\n",
       "    </tr>\n",
       "    <tr>\n",
       "      <th>163112</th>\n",
       "      <td>4/1/2013</td>\n",
       "      <td>31.107</td>\n",
       "      <td>0.331</td>\n",
       "      <td>Nagpur</td>\n",
       "      <td>India</td>\n",
       "      <td>21.70N</td>\n",
       "      <td>78.75E</td>\n",
       "    </tr>\n",
       "    <tr>\n",
       "      <th>163113</th>\n",
       "      <td>5/1/2013</td>\n",
       "      <td>35.869</td>\n",
       "      <td>0.592</td>\n",
       "      <td>Nagpur</td>\n",
       "      <td>India</td>\n",
       "      <td>21.70N</td>\n",
       "      <td>78.75E</td>\n",
       "    </tr>\n",
       "    <tr>\n",
       "      <th>163114</th>\n",
       "      <td>6/1/2013</td>\n",
       "      <td>29.540</td>\n",
       "      <td>0.735</td>\n",
       "      <td>Nagpur</td>\n",
       "      <td>India</td>\n",
       "      <td>21.70N</td>\n",
       "      <td>78.75E</td>\n",
       "    </tr>\n",
       "    <tr>\n",
       "      <th>163115</th>\n",
       "      <td>7/1/2013</td>\n",
       "      <td>26.258</td>\n",
       "      <td>0.274</td>\n",
       "      <td>Nagpur</td>\n",
       "      <td>India</td>\n",
       "      <td>21.70N</td>\n",
       "      <td>78.75E</td>\n",
       "    </tr>\n",
       "    <tr>\n",
       "      <th>163116</th>\n",
       "      <td>8/1/2013</td>\n",
       "      <td>25.930</td>\n",
       "      <td>0.406</td>\n",
       "      <td>Nagpur</td>\n",
       "      <td>India</td>\n",
       "      <td>21.70N</td>\n",
       "      <td>78.75E</td>\n",
       "    </tr>\n",
       "  </tbody>\n",
       "</table>\n",
       "<p>2284 rows × 7 columns</p>\n",
       "</div>"
      ],
      "text/plain": [
       "              Date  AVG_TEMP  AVG_TEMP_UNCERTAINITY    City Country Latitude  \\\n",
       "160505  1796-01-01    19.317                  2.286  Nagpur   India   21.70N   \n",
       "160506  1796-02-01    21.515                  1.616  Nagpur   India   21.70N   \n",
       "160507  1796-03-01    24.978                  2.436  Nagpur   India   21.70N   \n",
       "160508  1796-04-01    30.977                  1.871  Nagpur   India   21.70N   \n",
       "160509  1796-05-01    34.121                  1.607  Nagpur   India   21.70N   \n",
       "...            ...       ...                    ...     ...     ...      ...   \n",
       "163112    4/1/2013    31.107                  0.331  Nagpur   India   21.70N   \n",
       "163113    5/1/2013    35.869                  0.592  Nagpur   India   21.70N   \n",
       "163114    6/1/2013    29.540                  0.735  Nagpur   India   21.70N   \n",
       "163115    7/1/2013    26.258                  0.274  Nagpur   India   21.70N   \n",
       "163116    8/1/2013    25.930                  0.406  Nagpur   India   21.70N   \n",
       "\n",
       "       Longitude  \n",
       "160505    78.75E  \n",
       "160506    78.75E  \n",
       "160507    78.75E  \n",
       "160508    78.75E  \n",
       "160509    78.75E  \n",
       "...          ...  \n",
       "163112    78.75E  \n",
       "163113    78.75E  \n",
       "163114    78.75E  \n",
       "163115    78.75E  \n",
       "163116    78.75E  \n",
       "\n",
       "[2284 rows x 7 columns]"
      ]
     },
     "execution_count": 187,
     "metadata": {},
     "output_type": "execute_result"
    }
   ],
   "source": [
    "new_data[new_data[\"City\"] == \"Nagpur\"]"
   ]
  },
  {
   "cell_type": "code",
   "execution_count": 196,
   "id": "995c0bbd-aa6c-4c9f-9008-0dab834be16a",
   "metadata": {},
   "outputs": [
    {
     "data": {
      "image/png": "[encoded data removed]",
      "text/plain": [
       "<Figure size 1500x700 with 1 Axes>"
      ]
     },
     "metadata": {},
     "output_type": "display_data"
    }
   ],
   "source": [
    "plt.figure(figsize = (15, 7))\n",
    "# plt.scatter(data[\"Date\"][:10], data[\"AVG_TEMP\"][:10], c = \"r\")\n",
    "plt.plot(new_data[\"Date\"][:50], new_data[\"AVG_TEMP\"][:50])\n",
    "plt.xticks(ticks = list(range(50)), labels = new_data[\"Date\"][:50], rotation = 90)\n",
    "plt.title(\"Nagpur January Month Average temperature\")\n",
    "plt.ylabel(\"Average temp\")\n",
    "plt.xlabel(\"City\")\n",
    "plt.show()"
   ]
  },
  {
   "cell_type": "code",
   "execution_count": null,
   "id": "efbb9349-a1cd-4584-9dd4-28813c7db5eb",
   "metadata": {},
   "outputs": [],
   "source": []
  }
 ],
 "metadata": {
  "kernelspec": {
   "display_name": "Python 3 (ipykernel)",
   "language": "python",
   "name": "python3"
  },
  "language_info": {
   "codemirror_mode": {
    "name": "ipython",
    "version": 3
   },
   "file_extension": ".py",
   "mimetype": "text/x-python",
   "name": "python",
   "nbconvert_exporter": "python",
   "pygments_lexer": "ipython3",
   "version": "3.10.9"
  }
 },
 "nbformat": 4,
 "nbformat_minor": 5
}
